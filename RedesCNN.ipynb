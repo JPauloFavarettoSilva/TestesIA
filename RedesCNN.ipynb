{
  "nbformat": 4,
  "nbformat_minor": 0,
  "metadata": {
    "colab": {
      "provenance": [],
      "include_colab_link": true
    },
    "kernelspec": {
      "name": "python3",
      "display_name": "Python 3"
    },
    "language_info": {
      "name": "python"
    }
  },
  "cells": [
    {
      "cell_type": "markdown",
      "metadata": {
        "id": "view-in-github",
        "colab_type": "text"
      },
      "source": [
        "<a href=\"https://colab.research.google.com/github/JPauloFavarettoSilva/TestesIA/blob/main/RedesCNN.ipynb\" target=\"_parent\"><img src=\"https://colab.research.google.com/assets/colab-badge.svg\" alt=\"Open In Colab\"/></a>"
      ]
    },
    {
      "cell_type": "code",
      "source": [
        "import tensorflow as tf\n",
        "import numpy as np\n",
        "from tensorflow.keras.preprocessing import image\n",
        "import os\n",
        "\n",
        "model = tf.keras.models.load_model('modelo_cifar10.h5')\n",
        "\n",
        "\n",
        "image_paths = ['/content/gato.webp', '/content/Cavalos-1.webp', '/content/F-35A_flight_(cropped).jpg',\n",
        "               '/content/Sphynx-saiba-tudo-sobre-o-famoso-gato-sem-pelos.jpg', '/content/cachorro-na-chuva-petlove.jpg',\n",
        "               '/content/cachorro.jpg', '/content/caminhao-caveira.jpg', '/content/caminhão.webp', '/content/cavalozuao1.webp',\n",
        "               '/content/cervo.jpeg', '/content/ferrari-laferrari.jpg', '/content/fragata.jpg', '/content/lockheed-martin-f35a.jpg',\n",
        "               '/content/pardal_366468623.jpg', '/content/passaro.jpg', '/content/sapo.jpg',\n",
        "               '/content/servoescondido.jpg', '/content/submarino-na-superficie-do-mar.webp', '/content/venon gt.webp']  # Substitua pelos caminhos das suas imagens\n",
        "\n",
        "\n",
        "class_names = ['avião', 'automóvel', 'pássaro', 'gato', 'cervo', 'cachorro',\n",
        "               'sapo', 'cavalo', 'navio', 'caminhão']\n",
        "\n",
        "\n",
        "index = 0\n",
        "while index < len(image_paths):\n",
        "    image_path = image_paths[index]\n",
        "\n",
        "    if os.path.exists(image_path):\n",
        "\n",
        "        img = image.load_img(image_path, target_size=(32, 32))\n",
        "        img_array = image.img_to_array(img)\n",
        "        img_array = np.expand_dims(img_array, axis=0)\n",
        "        img_array /= 255.0  # Normalização\n",
        "\n",
        "\n",
        "        prediction = model.predict(img_array)\n",
        "        predicted_class = np.argmax(prediction)\n",
        "\n",
        "\n",
        "        predicted_label = class_names[predicted_class]\n",
        "\n",
        "        print('Predicted class for', image_path, ':', predicted_label)\n",
        "    else:\n",
        "        print('Arquivo não encontrado:', image_path)\n",
        "\n",
        "    index += 1\n"
      ],
      "metadata": {
        "colab": {
          "base_uri": "https://localhost:8080/"
        },
        "id": "9dQahoKSHzIP",
        "outputId": "6bdc6cdb-a632-41df-896f-059cc2ff0718"
      },
      "execution_count": null,
      "outputs": [
        {
          "output_type": "stream",
          "name": "stdout",
          "text": [
            "1/1 [==============================] - 0s 194ms/step\n",
            "Predicted class for /content/gato.webp : sapo\n",
            "1/1 [==============================] - 0s 19ms/step\n",
            "Predicted class for /content/Cavalos-1.webp : cavalo\n",
            "1/1 [==============================] - 0s 20ms/step\n",
            "Predicted class for /content/F-35A_flight_(cropped).jpg : avião\n",
            "1/1 [==============================] - 0s 20ms/step\n",
            "Predicted class for /content/Sphynx-saiba-tudo-sobre-o-famoso-gato-sem-pelos.jpg : cervo\n",
            "1/1 [==============================] - 0s 23ms/step\n",
            "Predicted class for /content/cachorro-na-chuva-petlove.jpg : sapo\n",
            "1/1 [==============================] - 0s 20ms/step\n",
            "Predicted class for /content/cachorro.jpg : cachorro\n",
            "1/1 [==============================] - 0s 20ms/step\n",
            "Predicted class for /content/caminhao-caveira.jpg : caminhão\n",
            "1/1 [==============================] - 0s 20ms/step\n",
            "Predicted class for /content/caminhão.webp : caminhão\n",
            "1/1 [==============================] - 0s 20ms/step\n",
            "Predicted class for /content/cavalozuao1.webp : cavalo\n",
            "1/1 [==============================] - 0s 20ms/step\n",
            "Predicted class for /content/cervo.jpeg : caminhão\n",
            "1/1 [==============================] - 0s 20ms/step\n",
            "Predicted class for /content/ferrari-laferrari.jpg : automóvel\n",
            "1/1 [==============================] - 0s 20ms/step\n",
            "Predicted class for /content/fragata.jpg : navio\n",
            "1/1 [==============================] - 0s 23ms/step\n",
            "Predicted class for /content/lockheed-martin-f35a.jpg : cavalo\n",
            "1/1 [==============================] - 0s 19ms/step\n",
            "Predicted class for /content/pardal_366468623.jpg : pássaro\n",
            "1/1 [==============================] - 0s 20ms/step\n",
            "Predicted class for /content/passaro.jpg : cervo\n",
            "1/1 [==============================] - 0s 27ms/step\n",
            "Predicted class for /content/sapo.jpg : sapo\n",
            "1/1 [==============================] - 0s 21ms/step\n",
            "Predicted class for /content/servoescondido.jpg : gato\n",
            "1/1 [==============================] - 0s 21ms/step\n",
            "Predicted class for /content/submarino-na-superficie-do-mar.webp : caminhão\n",
            "1/1 [==============================] - 0s 23ms/step\n",
            "Predicted class for /content/venon gt.webp : caminhão\n"
          ]
        }
      ]
    }
  ]
}