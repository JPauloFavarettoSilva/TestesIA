{
  "nbformat": 4,
  "nbformat_minor": 0,
  "metadata": {
    "colab": {
      "provenance": [],
      "authorship_tag": "ABX9TyOkkNoCj3jaNuS7rWlIGeeP",
      "include_colab_link": true
    },
    "kernelspec": {
      "name": "python3",
      "display_name": "Python 3"
    },
    "language_info": {
      "name": "python"
    }
  },
  "cells": [
    {
      "cell_type": "markdown",
      "metadata": {
        "id": "view-in-github",
        "colab_type": "text"
      },
      "source": [
        "<a href=\"https://colab.research.google.com/github/JPauloFavarettoSilva/TestesIA/blob/main/Spacy.ipynb\" target=\"_parent\"><img src=\"https://colab.research.google.com/assets/colab-badge.svg\" alt=\"Open In Colab\"/></a>"
      ]
    },
    {
      "cell_type": "code",
      "execution_count": null,
      "metadata": {
        "id": "ZL-0PP2-YsCk"
      },
      "outputs": [],
      "source": [
        "!pip install -U spacy"
      ]
    },
    {
      "cell_type": "code",
      "source": [
        "!python -m spacy download pt_core_news_sm"
      ],
      "metadata": {
        "id": "8GuB5wo6Y_Bu"
      },
      "execution_count": null,
      "outputs": []
    },
    {
      "cell_type": "code",
      "source": [
        "import spacy\n",
        "\n",
        "nlp = spacy.load(\"pt_core_news_sm\")\n",
        "\n",
        "texto = input(\"Inteligência é um conjunto que forma todas as características intelectuais de um indivíduo, ou seja, a faculdade de conhecer, compreender, raciocinar, pensar e interpretar. A inteligência é uma das principais distinções entre o ser humano e os outros animais. Etimologicamente, a palavra \"inteligência\" se originou a partir do latim intelligentia, oriundo de intelligere, em que o prefixo inter significa entre, e legere quer dizer escolha. Assim sendo, o significado original deste termo faz referência a capacidade de escolha de um indivíduo entre as várias possibilidades ou opções que lhe são apresentadas.\n",
        "\n",
        "\"Para a escolha da melhor e mais adequada oportunidade, entre as várias opções, uma pessoa precisa avaliar ao máximo todas as vantagens e desvantagens das hipóteses, necessitando para isso da capacidade de raciocinar, pensar e compreender, ou seja, a base do que forma a inteligência.\"\n",
        "\n",
        "\"Entre as faculdades que constituem a inteligência, também está o funcionamento e uso da memória, do juízo, da abstração, da imaginação e da concepção.\"\n",
        "\n",
        "\"Os conceitos e definições da inteligência variam de acordo com o grupo a que se referem. Por exemplo, na psicologia, a chamada inteligência psicológica é a capacidade de aprender e relacionar, ou seja, a cognição de um indivíduo; enquanto que no ramo da biologia, a inteligência biológica seria a capacidade de se adaptar a novos habitats ou situações.\")\n",
        "\n",
        "doc = nlp(texto)\n",
        "\n",
        "print(\"Tokens:\")\n",
        "for token in doc:\n",
        "    print(token.text, token.pos_, token.dep_)\n",
        "\n",
        "print(\"\\nEntidades nomeadas:\")\n",
        "for entidade in doc.ents:\n",
        "    print(entidade.text, entidade.label_)"
      ],
      "metadata": {
        "id": "lkEYI4VJZFZn"
      },
      "execution_count": null,
      "outputs": []
    }
  ]
}